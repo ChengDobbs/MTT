{
 "cells": [
  {
   "cell_type": "code",
   "execution_count": 30,
   "metadata": {},
   "outputs": [],
   "source": [
    "import torch\n",
    "import numpy as np\n",
    "import matplotlib.pyplot as plt\n",
    "from sklearn.manifold import TSNE\n",
    "from torchvision import datasets, transforms, models\n",
    "from torch.utils.data import DataLoader\n",
    "import torch.nn as nn\n",
    "import pdb\n",
    "from matplotlib.colors import ListedColormap"
   ]
  },
  {
   "cell_type": "code",
   "execution_count": 153,
   "metadata": {},
   "outputs": [],
   "source": [
    "total_class_num = 100\n",
    "selected_class_num = 1"
   ]
  },
  {
   "cell_type": "code",
   "execution_count": 154,
   "metadata": {},
   "outputs": [],
   "source": [
    "def normalize_array(array):\n",
    "    min_val = np.min(array)\n",
    "    max_val = np.max(array)\n",
    "    normalized_array = (array - min_val) / (max_val - min_val)\n",
    "    return normalized_array"
   ]
  },
  {
   "cell_type": "code",
   "execution_count": 155,
   "metadata": {},
   "outputs": [
    {
     "data": {
      "text/plain": [
       "DataParallel(\n",
       "  (module): ResNet(\n",
       "    (conv1): Conv2d(3, 64, kernel_size=(3, 3), stride=(1, 1), padding=(1, 1), bias=False)\n",
       "    (bn1): BatchNorm2d(64, eps=1e-05, momentum=0.1, affine=True, track_running_stats=True)\n",
       "    (relu): ReLU(inplace=True)\n",
       "    (maxpool): Identity()\n",
       "    (layer1): Sequential(\n",
       "      (0): BasicBlock(\n",
       "        (conv1): Conv2d(64, 64, kernel_size=(3, 3), stride=(1, 1), padding=(1, 1), bias=False)\n",
       "        (bn1): BatchNorm2d(64, eps=1e-05, momentum=0.1, affine=True, track_running_stats=True)\n",
       "        (relu): ReLU(inplace=True)\n",
       "        (conv2): Conv2d(64, 64, kernel_size=(3, 3), stride=(1, 1), padding=(1, 1), bias=False)\n",
       "        (bn2): BatchNorm2d(64, eps=1e-05, momentum=0.1, affine=True, track_running_stats=True)\n",
       "      )\n",
       "      (1): BasicBlock(\n",
       "        (conv1): Conv2d(64, 64, kernel_size=(3, 3), stride=(1, 1), padding=(1, 1), bias=False)\n",
       "        (bn1): BatchNorm2d(64, eps=1e-05, momentum=0.1, affine=True, track_running_stats=True)\n",
       "        (relu): ReLU(inplace=True)\n",
       "        (conv2): Conv2d(64, 64, kernel_size=(3, 3), stride=(1, 1), padding=(1, 1), bias=False)\n",
       "        (bn2): BatchNorm2d(64, eps=1e-05, momentum=0.1, affine=True, track_running_stats=True)\n",
       "      )\n",
       "    )\n",
       "    (layer2): Sequential(\n",
       "      (0): BasicBlock(\n",
       "        (conv1): Conv2d(64, 128, kernel_size=(3, 3), stride=(2, 2), padding=(1, 1), bias=False)\n",
       "        (bn1): BatchNorm2d(128, eps=1e-05, momentum=0.1, affine=True, track_running_stats=True)\n",
       "        (relu): ReLU(inplace=True)\n",
       "        (conv2): Conv2d(128, 128, kernel_size=(3, 3), stride=(1, 1), padding=(1, 1), bias=False)\n",
       "        (bn2): BatchNorm2d(128, eps=1e-05, momentum=0.1, affine=True, track_running_stats=True)\n",
       "        (downsample): Sequential(\n",
       "          (0): Conv2d(64, 128, kernel_size=(1, 1), stride=(2, 2), bias=False)\n",
       "          (1): BatchNorm2d(128, eps=1e-05, momentum=0.1, affine=True, track_running_stats=True)\n",
       "        )\n",
       "      )\n",
       "      (1): BasicBlock(\n",
       "        (conv1): Conv2d(128, 128, kernel_size=(3, 3), stride=(1, 1), padding=(1, 1), bias=False)\n",
       "        (bn1): BatchNorm2d(128, eps=1e-05, momentum=0.1, affine=True, track_running_stats=True)\n",
       "        (relu): ReLU(inplace=True)\n",
       "        (conv2): Conv2d(128, 128, kernel_size=(3, 3), stride=(1, 1), padding=(1, 1), bias=False)\n",
       "        (bn2): BatchNorm2d(128, eps=1e-05, momentum=0.1, affine=True, track_running_stats=True)\n",
       "      )\n",
       "    )\n",
       "    (layer3): Sequential(\n",
       "      (0): BasicBlock(\n",
       "        (conv1): Conv2d(128, 256, kernel_size=(3, 3), stride=(2, 2), padding=(1, 1), bias=False)\n",
       "        (bn1): BatchNorm2d(256, eps=1e-05, momentum=0.1, affine=True, track_running_stats=True)\n",
       "        (relu): ReLU(inplace=True)\n",
       "        (conv2): Conv2d(256, 256, kernel_size=(3, 3), stride=(1, 1), padding=(1, 1), bias=False)\n",
       "        (bn2): BatchNorm2d(256, eps=1e-05, momentum=0.1, affine=True, track_running_stats=True)\n",
       "        (downsample): Sequential(\n",
       "          (0): Conv2d(128, 256, kernel_size=(1, 1), stride=(2, 2), bias=False)\n",
       "          (1): BatchNorm2d(256, eps=1e-05, momentum=0.1, affine=True, track_running_stats=True)\n",
       "        )\n",
       "      )\n",
       "      (1): BasicBlock(\n",
       "        (conv1): Conv2d(256, 256, kernel_size=(3, 3), stride=(1, 1), padding=(1, 1), bias=False)\n",
       "        (bn1): BatchNorm2d(256, eps=1e-05, momentum=0.1, affine=True, track_running_stats=True)\n",
       "        (relu): ReLU(inplace=True)\n",
       "        (conv2): Conv2d(256, 256, kernel_size=(3, 3), stride=(1, 1), padding=(1, 1), bias=False)\n",
       "        (bn2): BatchNorm2d(256, eps=1e-05, momentum=0.1, affine=True, track_running_stats=True)\n",
       "      )\n",
       "    )\n",
       "    (layer4): Sequential(\n",
       "      (0): BasicBlock(\n",
       "        (conv1): Conv2d(256, 512, kernel_size=(3, 3), stride=(2, 2), padding=(1, 1), bias=False)\n",
       "        (bn1): BatchNorm2d(512, eps=1e-05, momentum=0.1, affine=True, track_running_stats=True)\n",
       "        (relu): ReLU(inplace=True)\n",
       "        (conv2): Conv2d(512, 512, kernel_size=(3, 3), stride=(1, 1), padding=(1, 1), bias=False)\n",
       "        (bn2): BatchNorm2d(512, eps=1e-05, momentum=0.1, affine=True, track_running_stats=True)\n",
       "        (downsample): Sequential(\n",
       "          (0): Conv2d(256, 512, kernel_size=(1, 1), stride=(2, 2), bias=False)\n",
       "          (1): BatchNorm2d(512, eps=1e-05, momentum=0.1, affine=True, track_running_stats=True)\n",
       "        )\n",
       "      )\n",
       "      (1): BasicBlock(\n",
       "        (conv1): Conv2d(512, 512, kernel_size=(3, 3), stride=(1, 1), padding=(1, 1), bias=False)\n",
       "        (bn1): BatchNorm2d(512, eps=1e-05, momentum=0.1, affine=True, track_running_stats=True)\n",
       "        (relu): ReLU(inplace=True)\n",
       "        (conv2): Conv2d(512, 512, kernel_size=(3, 3), stride=(1, 1), padding=(1, 1), bias=False)\n",
       "        (bn2): BatchNorm2d(512, eps=1e-05, momentum=0.1, affine=True, track_running_stats=True)\n",
       "      )\n",
       "    )\n",
       "    (avgpool): AdaptiveAvgPool2d(output_size=(1, 1))\n",
       "    (fc): Linear(in_features=512, out_features=100, bias=True)\n",
       "  )\n",
       ")"
      ]
     },
     "execution_count": 155,
     "metadata": {},
     "output_type": "execute_result"
    }
   ],
   "source": [
    "model_teacher = models.resnet18(num_classes=100)\n",
    "model_teacher.conv1 = nn.Conv2d(3, 64, kernel_size=(3, 3), stride=(1, 1), padding=(1, 1), bias=False)\n",
    "model_teacher.maxpool = nn.Identity()\n",
    "model_teacher = torch.nn.DataParallel(model_teacher).cuda()\n",
    "checkpoint = torch.load('/root/SRE_repro/save/cifar100/cifar100_rn18_ep200/ckpt.pth')\n",
    "model_teacher.load_state_dict(checkpoint[\"state_dict\"])\n",
    "# model_teacher = nn.Sequential(*(list(model_teacher.module.children())[:-1]))\n",
    "# model_feature_hook.eval()\n",
    "model_teacher.eval()"
   ]
  },
  {
   "cell_type": "code",
   "execution_count": 190,
   "metadata": {},
   "outputs": [],
   "source": [
    "tsne = TSNE(n_components=2, random_state=42)\n"
   ]
  },
  {
   "cell_type": "code",
   "execution_count": 156,
   "metadata": {},
   "outputs": [
    {
     "data": {
      "text/plain": [
       "array([40])"
      ]
     },
     "execution_count": 156,
     "metadata": {},
     "output_type": "execute_result"
    }
   ],
   "source": [
    "classes = np.random.choice(total_class_num, selected_class_num, replace=False)\n",
    "classes"
   ]
  },
  {
   "cell_type": "markdown",
   "metadata": {},
   "source": [
    "#### load images from cifar100 dataset"
   ]
  },
  {
   "cell_type": "code",
   "execution_count": 157,
   "metadata": {},
   "outputs": [
    {
     "name": "stdout",
     "output_type": "stream",
     "text": [
      "Files already downloaded and verified\n",
      "[40]\n",
      "tensor([0.5071, 0.4866, 0.4409]) tensor([0.2673, 0.2564, 0.2762])\n"
     ]
    }
   ],
   "source": [
    "from torchvision.datasets import CIFAR100\n",
    "# add inception data augmentations\n",
    "transform = transforms.Compose([\n",
    "    transforms.RandomHorizontalFlip(),\n",
    "    transforms.ToTensor(),\n",
    "    transforms.Resize((32, 32)),\n",
    "    # transforms.Normalize(mean=[0.4914, 0.4822, 0.4465], std=[0.2023, 0.1994, 0.2010])\n",
    "])\n",
    "cifar100_dataset = CIFAR100(root='/root/SRE_repro/data', train=True, download=True, transform=transform)\n",
    "cifar100_loader = DataLoader(cifar100_dataset, batch_size=100, shuffle=False)\n",
    "\n",
    "\n",
    "print(classes)\n",
    "train_loader = DataLoader(cifar100_dataset, batch_size=100, shuffle=False)\n",
    "# calc mean and std on whole dataset\n",
    "image_tensor = torch.stack([img for img, _ in train_loader.dataset])\n",
    "# print(image_tensor.shape)\n",
    "mean = image_tensor.mean(dim=(0, 2, 3))\n",
    "std = image_tensor.std(dim=(0, 2, 3))\n",
    "print(mean, std)\n"
   ]
  },
  {
   "cell_type": "code",
   "execution_count": 158,
   "metadata": {},
   "outputs": [
    {
     "name": "stdout",
     "output_type": "stream",
     "text": [
      "class_to_plot: 40\n",
      "(100,)\n",
      "c 0 total (1, 100)\n",
      "c 0 total (3, 100)\n",
      "c 0 total (5, 100)\n",
      "c 0 total (7, 100)\n",
      "c 0 total (8, 100)\n",
      "c 0 total (10, 100)\n",
      "c 0 total (13, 100)\n",
      "c 0 total (14, 100)\n",
      "c 0 total (15, 100)\n",
      "c 0 total (17, 100)\n",
      "c 0 total (18, 100)\n",
      "c 0 total (22, 100)\n",
      "c 0 total (24, 100)\n",
      "c 0 total (26, 100)\n",
      "c 0 total (28, 100)\n",
      "c 0 total (29, 100)\n",
      "c 0 total (31, 100)\n",
      "c 0 total (32, 100)\n",
      "c 0 total (34, 100)\n",
      "c 0 total (36, 100)\n",
      "c 0 total (39, 100)\n",
      "c 0 total (41, 100)\n",
      "c 0 total (42, 100)\n",
      "c 0 total (44, 100)\n",
      "c 0 total (45, 100)\n",
      "c 0 total (46, 100)\n",
      "c 0 total (48, 100)\n",
      "c 0 total (51, 100)\n",
      "c 0 total (53, 100)\n",
      "c 0 total (54, 100)\n",
      "c 0 total (56, 100)\n",
      "c 0 total (58, 100)\n",
      "c 0 total (60, 100)\n",
      "c 0 total (63, 100)\n",
      "c 0 total (64, 100)\n",
      "c 0 total (67, 100)\n",
      "c 0 total (68, 100)\n",
      "c 0 total (69, 100)\n",
      "c 0 total (70, 100)\n",
      "c 0 total (71, 100)\n",
      "c 0 total (73, 100)\n",
      "c 0 total (74, 100)\n",
      "c 0 total (75, 100)\n",
      "c 0 total (76, 100)\n",
      "c 0 total (79, 100)\n",
      "c 0 total (81, 100)\n",
      "c 0 total (83, 100)\n",
      "c 0 total (84, 100)\n",
      "c 0 total (86, 100)\n",
      "c 0 total (87, 100)\n",
      "c 0 total (88, 100)\n",
      "c 0 total (91, 100)\n",
      "c 0 total (93, 100)\n",
      "c 0 total (94, 100)\n",
      "c 0 total (95, 100)\n",
      "c 0 total (96, 100)\n",
      "c 0 total (98, 100)\n",
      "c 0 total (99, 100)\n",
      "c 0 total (101, 100)\n",
      "c 0 total (104, 100)\n",
      "c 0 total (106, 100)\n",
      "c 0 total (107, 100)\n",
      "c 0 total (108, 100)\n",
      "c 0 total (110, 100)\n",
      "c 0 total (111, 100)\n",
      "c 0 total (112, 100)\n",
      "c 0 total (113, 100)\n",
      "c 0 total (114, 100)\n",
      "c 0 total (115, 100)\n",
      "c 0 total (118, 100)\n",
      "c 0 total (120, 100)\n",
      "c 0 total (122, 100)\n",
      "c 0 total (123, 100)\n",
      "c 0 total (126, 100)\n",
      "c 0 total (130, 100)\n",
      "c 0 total (131, 100)\n",
      "c 0 total (135, 100)\n",
      "c 0 total (137, 100)\n",
      "c 0 total (139, 100)\n",
      "c 0 total (141, 100)\n",
      "c 0 total (143, 100)\n",
      "c 0 total (145, 100)\n",
      "c 0 total (146, 100)\n",
      "c 0 total (147, 100)\n",
      "c 0 total (148, 100)\n",
      "c 0 total (149, 100)\n",
      "c 0 total (152, 100)\n",
      "c 0 total (153, 100)\n",
      "c 0 total (156, 100)\n",
      "c 0 total (158, 100)\n",
      "c 0 total (159, 100)\n",
      "c 0 total (161, 100)\n",
      "c 0 total (164, 100)\n",
      "c 0 total (166, 100)\n",
      "c 0 total (170, 100)\n",
      "c 0 total (171, 100)\n",
      "c 0 total (173, 100)\n",
      "c 0 total (176, 100)\n",
      "c 0 total (177, 100)\n",
      "c 0 total (179, 100)\n",
      "c 0 total (180, 100)\n",
      "c 0 total (182, 100)\n",
      "c 0 total (183, 100)\n",
      "c 0 total (184, 100)\n",
      "c 0 total (185, 100)\n",
      "c 0 total (187, 100)\n",
      "c 0 total (190, 100)\n",
      "c 0 total (192, 100)\n",
      "c 0 total (194, 100)\n",
      "c 0 total (195, 100)\n",
      "c 0 total (197, 100)\n",
      "c 0 total (202, 100)\n",
      "c 0 total (203, 100)\n",
      "c 0 total (204, 100)\n",
      "c 0 total (205, 100)\n",
      "c 0 total (206, 100)\n",
      "c 0 total (207, 100)\n",
      "c 0 total (208, 100)\n",
      "c 0 total (210, 100)\n",
      "c 0 total (211, 100)\n",
      "c 0 total (212, 100)\n",
      "c 0 total (214, 100)\n",
      "c 0 total (215, 100)\n",
      "c 0 total (216, 100)\n",
      "c 0 total (219, 100)\n",
      "c 0 total (220, 100)\n",
      "c 0 total (222, 100)\n",
      "c 0 total (223, 100)\n",
      "c 0 total (224, 100)\n",
      "c 0 total (225, 100)\n",
      "c 0 total (226, 100)\n",
      "c 0 total (228, 100)\n",
      "c 0 total (229, 100)\n",
      "c 0 total (230, 100)\n",
      "c 0 total (231, 100)\n",
      "c 0 total (232, 100)\n",
      "c 0 total (233, 100)\n",
      "c 0 total (234, 100)\n",
      "c 0 total (236, 100)\n",
      "c 0 total (238, 100)\n",
      "c 0 total (241, 100)\n",
      "c 0 total (245, 100)\n",
      "c 0 total (246, 100)\n",
      "c 0 total (247, 100)\n",
      "c 0 total (249, 100)\n",
      "c 0 total (252, 100)\n",
      "c 0 total (254, 100)\n",
      "c 0 total (258, 100)\n",
      "c 0 total (259, 100)\n",
      "c 0 total (260, 100)\n",
      "c 0 total (262, 100)\n",
      "c 0 total (264, 100)\n",
      "c 0 total (265, 100)\n",
      "c 0 total (267, 100)\n",
      "c 0 total (268, 100)\n",
      "c 0 total (270, 100)\n",
      "c 0 total (272, 100)\n",
      "c 0 total (274, 100)\n",
      "c 0 total (276, 100)\n",
      "c 0 total (278, 100)\n",
      "c 0 total (280, 100)\n",
      "c 0 total (281, 100)\n",
      "c 0 total (284, 100)\n",
      "c 0 total (285, 100)\n",
      "c 0 total (286, 100)\n",
      "c 0 total (287, 100)\n",
      "c 0 total (290, 100)\n",
      "c 0 total (291, 100)\n",
      "c 0 total (292, 100)\n",
      "c 0 total (293, 100)\n",
      "c 0 total (296, 100)\n",
      "c 0 total (297, 100)\n",
      "c 0 total (299, 100)\n",
      "c 0 total (301, 100)\n",
      "c 0 total (303, 100)\n",
      "c 0 total (304, 100)\n",
      "c 0 total (305, 100)\n",
      "c 0 total (307, 100)\n",
      "c 0 total (310, 100)\n",
      "c 0 total (312, 100)\n",
      "c 0 total (313, 100)\n",
      "c 0 total (314, 100)\n",
      "c 0 total (315, 100)\n",
      "c 0 total (316, 100)\n",
      "c 0 total (317, 100)\n",
      "c 0 total (318, 100)\n",
      "c 0 total (320, 100)\n",
      "c 0 total (321, 100)\n",
      "c 0 total (322, 100)\n",
      "c 0 total (323, 100)\n",
      "c 0 total (324, 100)\n",
      "c 0 total (325, 100)\n",
      "c 0 total (326, 100)\n",
      "c 0 total (329, 100)\n",
      "c 0 total (332, 100)\n",
      "c 0 total (333, 100)\n",
      "c 0 total (334, 100)\n",
      "c 0 total (336, 100)\n",
      "c 0 total (338, 100)\n",
      "c 0 total (340, 100)\n",
      "c 0 total (341, 100)\n",
      "c 0 total (344, 100)\n",
      "c 0 total (345, 100)\n",
      "c 0 total (347, 100)\n",
      "c 0 total (350, 100)\n",
      "c 0 total (352, 100)\n",
      "c 0 total (354, 100)\n",
      "c 0 total (355, 100)\n",
      "c 0 total (357, 100)\n",
      "c 0 total (358, 100)\n",
      "c 0 total (359, 100)\n",
      "c 0 total (360, 100)\n",
      "c 0 total (361, 100)\n",
      "c 0 total (362, 100)\n",
      "c 0 total (364, 100)\n",
      "c 0 total (365, 100)\n",
      "c 0 total (366, 100)\n",
      "c 0 total (367, 100)\n",
      "c 0 total (368, 100)\n",
      "c 0 total (369, 100)\n",
      "c 0 total (371, 100)\n",
      "c 0 total (372, 100)\n",
      "c 0 total (373, 100)\n",
      "c 0 total (374, 100)\n",
      "c 0 total (375, 100)\n",
      "c 0 total (376, 100)\n",
      "c 0 total (377, 100)\n",
      "c 0 total (378, 100)\n",
      "c 0 total (379, 100)\n",
      "c 0 total (381, 100)\n",
      "c 0 total (382, 100)\n",
      "c 0 total (383, 100)\n",
      "c 0 total (384, 100)\n",
      "c 0 total (386, 100)\n",
      "c 0 total (387, 100)\n",
      "c 0 total (389, 100)\n",
      "c 0 total (391, 100)\n",
      "c 0 total (393, 100)\n",
      "c 0 total (394, 100)\n",
      "c 0 total (397, 100)\n",
      "c 0 total (398, 100)\n",
      "c 0 total (400, 100)\n",
      "c 0 total (401, 100)\n",
      "c 0 total (404, 100)\n",
      "c 0 total (405, 100)\n",
      "c 0 total (407, 100)\n",
      "c 0 total (408, 100)\n",
      "c 0 total (409, 100)\n",
      "c 0 total (410, 100)\n",
      "c 0 total (412, 100)\n",
      "c 0 total (414, 100)\n",
      "c 0 total (416, 100)\n",
      "c 0 total (419, 100)\n",
      "c 0 total (421, 100)\n",
      "c 0 total (422, 100)\n",
      "c 0 total (423, 100)\n",
      "c 0 total (424, 100)\n",
      "c 0 total (427, 100)\n",
      "c 0 total (429, 100)\n",
      "c 0 total (432, 100)\n",
      "c 0 total (434, 100)\n",
      "c 0 total (435, 100)\n",
      "c 0 total (436, 100)\n",
      "c 0 total (437, 100)\n",
      "c 0 total (438, 100)\n",
      "c 0 total (439, 100)\n",
      "c 0 total (440, 100)\n",
      "c 0 total (441, 100)\n",
      "c 0 total (443, 100)\n",
      "c 0 total (444, 100)\n",
      "c 0 total (446, 100)\n",
      "c 0 total (449, 100)\n",
      "c 0 total (452, 100)\n",
      "c 0 total (453, 100)\n",
      "c 0 total (456, 100)\n",
      "c 0 total (457, 100)\n",
      "c 0 total (458, 100)\n",
      "c 0 total (459, 100)\n",
      "c 0 total (460, 100)\n",
      "c 0 total (461, 100)\n",
      "c 0 total (462, 100)\n",
      "c 0 total (463, 100)\n",
      "c 0 total (464, 100)\n",
      "c 0 total (465, 100)\n",
      "c 0 total (466, 100)\n",
      "c 0 total (468, 100)\n",
      "c 0 total (469, 100)\n",
      "c 0 total (470, 100)\n",
      "c 0 total (472, 100)\n",
      "c 0 total (473, 100)\n",
      "c 0 total (474, 100)\n",
      "c 0 total (476, 100)\n",
      "c 0 total (477, 100)\n",
      "c 0 total (478, 100)\n",
      "c 0 total (480, 100)\n",
      "c 0 total (481, 100)\n",
      "c 0 total (485, 100)\n",
      "c 0 total (487, 100)\n",
      "c 0 total (490, 100)\n",
      "c 0 total (491, 100)\n",
      "c 0 total (492, 100)\n",
      "c 0 total (493, 100)\n",
      "c 0 total (496, 100)\n",
      "c 0 total (499, 100)\n",
      "c 0 total (500, 100)\n",
      "(500, 100)\n"
     ]
    }
   ],
   "source": [
    "transform = transforms.Compose([\n",
    "    transforms.ToTensor(),\n",
    "    transforms.Resize((32, 32)),\n",
    "    transforms.Normalize(mean=mean, std=std)\n",
    "])\n",
    "flag = True\n",
    "for ci in range(len(classes)):\n",
    "    class_to_plot = classes[ci]\n",
    "    print('class_to_plot:', class_to_plot)\n",
    "    with torch.no_grad():\n",
    "        for images, batch_labels in cifar100_loader:\n",
    "            images = images.cuda()\n",
    "            features_batch = model_teacher(images)\n",
    "            labels_batch = batch_labels.cpu().numpy()\n",
    "            class_indices = np.where(labels_batch == class_to_plot)[0]\n",
    "            # print('class_indices:', class_indices)\n",
    "            if len(class_indices) == 0:\n",
    "                continue\n",
    "            if flag:\n",
    "                flag = False\n",
    "                features_batch = features_batch[class_indices].squeeze().cpu().numpy()\n",
    "                print(features_batch.shape)\n",
    "                features = features_batch.reshape(-1, 100)\n",
    "\n",
    "                print('c', ci, 'total', features.shape)\n",
    "            else:\n",
    "                features_batch = features_batch[class_indices].cpu().numpy()\n",
    "                # print(features_batch.shape)\n",
    "                features = np.concatenate((features, features_batch), axis=0)\n",
    "                print('c', ci, 'total', features.shape)\n",
    "    print(features.shape)"
   ]
  },
  {
   "cell_type": "code",
   "execution_count": 159,
   "metadata": {},
   "outputs": [],
   "source": [
    "features_flat = features.reshape(features.shape[0], -1)\n",
    "features_flat = normalize_array(features_flat)"
   ]
  },
  {
   "cell_type": "code",
   "execution_count": 160,
   "metadata": {},
   "outputs": [
    {
     "data": {
      "text/plain": [
       "(500, 100)"
      ]
     },
     "execution_count": 160,
     "metadata": {},
     "output_type": "execute_result"
    }
   ],
   "source": [
    "features_flat.shape"
   ]
  },
  {
   "cell_type": "markdown",
   "metadata": {},
   "source": [
    "#### load our distilled images"
   ]
  },
  {
   "cell_type": "code",
   "execution_count": 161,
   "metadata": {},
   "outputs": [
    {
     "name": "stdout",
     "output_type": "stream",
     "text": [
      "[40]\n",
      "tensor([0.4396, 0.4184, 0.3755]) tensor([0.2925, 0.2840, 0.2884])\n"
     ]
    }
   ],
   "source": [
    "our_train_dir = '/root/SRE_repro/syn_data/awp_ipc50_large_var'\n",
    "# read from the file\n",
    "transform = transforms.Compose([\n",
    "    transforms.RandomHorizontalFlip(),\n",
    "    transforms.ToTensor(),\n",
    "    transforms.Resize((32, 32)),\n",
    "])\n",
    "train_dataset = datasets.ImageFolder(\n",
    "    our_train_dir,\n",
    "    transform=transform\n",
    ")\n",
    "print(classes)\n",
    "train_loader = DataLoader(train_dataset, batch_size=100, shuffle=False)\n",
    "# calc mean and std on whole dataset\n",
    "image_tensor = torch.stack([img for img, _ in train_loader.dataset])\n",
    "mean = image_tensor.mean(dim=(0, 2, 3))\n",
    "std = image_tensor.std(dim=(0, 2, 3))\n",
    "print(mean, std)\n"
   ]
  },
  {
   "cell_type": "code",
   "execution_count": 162,
   "metadata": {},
   "outputs": [
    {
     "name": "stdout",
     "output_type": "stream",
     "text": [
      "(100, 100)\n",
      "total (100, 100)\n"
     ]
    }
   ],
   "source": [
    "transform = transforms.Compose([\n",
    "    transforms.ToTensor(),\n",
    "    transforms.Resize((32, 32)),\n",
    "    transforms.Normalize(mean=mean, std=std)\n",
    "])\n",
    "flag = True\n",
    "with torch.no_grad():\n",
    "    for images, batch_labels in train_loader:\n",
    "        if batch_labels[0].item() in classes:\n",
    "            images = images.cuda()\n",
    "            features_batch = model_teacher(images)\n",
    "            features_batch = features_batch.cpu().numpy()\n",
    "            if flag:\n",
    "                flag = False\n",
    "                features_batch = features_batch.squeeze().reshape(-1, 100)\n",
    "                features = features_batch\n",
    "                print(features.shape)\n",
    "            else:\n",
    "                features_batch = features_batch.squeeze().reshape(-1, 100)\n",
    "                features = np.concatenate((features, features_batch), axis=0)\n",
    "                print(features.shape)\n",
    "            print('total', features.shape)"
   ]
  },
  {
   "cell_type": "code",
   "execution_count": 163,
   "metadata": {},
   "outputs": [],
   "source": [
    "our_distill = features\n",
    "our_distill_flat = our_distill.reshape(our_distill.shape[0], -1)\n",
    "our_distill_flat = normalize_array(our_distill_flat)"
   ]
  },
  {
   "cell_type": "code",
   "execution_count": 164,
   "metadata": {},
   "outputs": [
    {
     "data": {
      "text/plain": [
       "(100, 100)"
      ]
     },
     "execution_count": 164,
     "metadata": {},
     "output_type": "execute_result"
    }
   ],
   "source": [
    "our_distill_flat.shape"
   ]
  },
  {
   "cell_type": "markdown",
   "metadata": {},
   "source": [
    "#### load sre2l distilled images"
   ]
  },
  {
   "cell_type": "code",
   "execution_count": 165,
   "metadata": {},
   "outputs": [
    {
     "name": "stdout",
     "output_type": "stream",
     "text": [
      "[40]\n",
      "tensor([0.4370, 0.4158, 0.3757]) tensor([0.2970, 0.2862, 0.2894])\n"
     ]
    }
   ],
   "source": [
    "sre2l_train_dir = '/root/SRE_repro/syn_data/cifar100_rn18_1k_ipc50'\n",
    "# read from the file\n",
    "transform = transforms.Compose([\n",
    "    transforms.RandomHorizontalFlip(),\n",
    "    transforms.ToTensor(),\n",
    "    transforms.Resize((32, 32)),\n",
    "])\n",
    "train_dataset = datasets.ImageFolder(\n",
    "    sre2l_train_dir,\n",
    "    transform=transform\n",
    ")\n",
    "print(classes)\n",
    "train_loader = DataLoader(train_dataset, batch_size=100, shuffle=False)\n",
    "# calc mean and std on whole dataset\n",
    "image_tensor = torch.stack([img for img, _ in train_loader.dataset])\n",
    "mean = image_tensor.mean(dim=(0, 2, 3))\n",
    "std = image_tensor.std(dim=(0, 2, 3))\n",
    "print(mean, std)\n"
   ]
  },
  {
   "cell_type": "code",
   "execution_count": 166,
   "metadata": {},
   "outputs": [
    {
     "name": "stdout",
     "output_type": "stream",
     "text": [
      "[40]\n",
      "(50, 100)\n",
      "total (50, 100)\n"
     ]
    }
   ],
   "source": [
    "\n",
    "print(classes)\n",
    "flag = True\n",
    "train_loader = DataLoader(train_dataset, batch_size=50, shuffle=False)\n",
    "with torch.no_grad():\n",
    "    for images, batch_labels in train_loader:\n",
    "        if batch_labels[0].item() in classes:\n",
    "            images = images.cuda()\n",
    "            features_batch = model_teacher(images)\n",
    "            features_batch = features_batch.cpu().numpy()\n",
    "            if flag:\n",
    "                flag = False\n",
    "                features_batch = features_batch.squeeze().reshape(-1, 100)\n",
    "                features = features_batch\n",
    "                print(features.shape)\n",
    "            else:\n",
    "                features_batch = features_batch.squeeze().reshape(-1, 100)\n",
    "                features = np.concatenate((features, features_batch), axis=0)\n",
    "                print(features.shape)\n",
    "            print('total', features.shape)"
   ]
  },
  {
   "cell_type": "code",
   "execution_count": 167,
   "metadata": {},
   "outputs": [],
   "source": [
    "sre2l_distill = features\n",
    "sre2l_distill_flat = sre2l_distill.reshape(sre2l_distill.shape[0], -1)\n",
    "sre2l_distill_flat = normalize_array(sre2l_distill_flat)"
   ]
  },
  {
   "cell_type": "code",
   "execution_count": 168,
   "metadata": {},
   "outputs": [
    {
     "data": {
      "text/plain": [
       "(50, 100)"
      ]
     },
     "execution_count": 168,
     "metadata": {},
     "output_type": "execute_result"
    }
   ],
   "source": [
    "sre2l_distill_flat.shape"
   ]
  },
  {
   "cell_type": "code",
   "execution_count": 169,
   "metadata": {},
   "outputs": [],
   "source": [
    "features_flat_combined = np.concatenate((features_flat, our_distill_flat, sre2l_distill_flat), axis=0) "
   ]
  },
  {
   "cell_type": "code",
   "execution_count": 170,
   "metadata": {},
   "outputs": [
    {
     "data": {
      "text/plain": [
       "(650, 100)"
      ]
     },
     "execution_count": 170,
     "metadata": {},
     "output_type": "execute_result"
    }
   ],
   "source": [
    "features_flat_combined.shape"
   ]
  },
  {
   "cell_type": "code",
   "execution_count": 171,
   "metadata": {},
   "outputs": [],
   "source": [
    "embedded_data_combined = tsne.fit_transform(features_flat_combined)\n"
   ]
  },
  {
   "cell_type": "code",
   "execution_count": 172,
   "metadata": {},
   "outputs": [
    {
     "data": {
      "text/plain": [
       "1"
      ]
     },
     "execution_count": 172,
     "metadata": {},
     "output_type": "execute_result"
    }
   ],
   "source": [
    "selected_class_num"
   ]
  },
  {
   "cell_type": "code",
   "execution_count": 173,
   "metadata": {},
   "outputs": [
    {
     "data": {
      "text/plain": [
       "array([40])"
      ]
     },
     "execution_count": 173,
     "metadata": {},
     "output_type": "execute_result"
    }
   ],
   "source": [
    "classes"
   ]
  },
  {
   "cell_type": "code",
   "execution_count": 195,
   "metadata": {},
   "outputs": [],
   "source": [
    "# colors = ['r', 'g', 'b', 'c', 'm', 'y', 'k', 'orange', 'purple', 'brown']\n",
    "colors = ['r', 'purple', 'brown']"
   ]
  },
  {
   "cell_type": "code",
   "execution_count": 196,
   "metadata": {},
   "outputs": [
    {
     "data": {
      "image/png": "[encoded data removed]",
      "text/plain": [
       "<Figure size 640x480 with 1 Axes>"
      ]
     },
     "metadata": {},
     "output_type": "display_data"
    }
   ],
   "source": [
    "import seaborn as sns\n",
    "import pandas as pd\n",
    "sns.set_style(\"white\")\n",
    "\n",
    "x1 = embedded_data_combined[0 : 500, 0]\n",
    "y1 = embedded_data_combined[0 : 500, 1]\n",
    "# x2 = embedded_data_combined[500 : 1000, 0]\n",
    "# y2 = embedded_data_combined[500 : 1000, 1]\n",
    "\n",
    "df = pd.DataFrame({\n",
    "    \"x1\": x1,\n",
    "    \"y1\": y1,\n",
    "    # \"x2\": x2,\n",
    "    # \"y2\": y2\n",
    "})\n",
    "sns.kdeplot(x=df.x1, y=df.y1, cmap=\"Oranges\", fill=True, bw_adjust=0.9)\n",
    "# sns.kdeplot(x=df.x2, y=df.y2, cmap=\"Greens\", fill=True, bw_adjust=0.9)\n",
    "\n",
    "base = selected_class_num * 500\n",
    "\n",
    "for i in range(selected_class_num):\n",
    "    plt.scatter(\n",
    "        embedded_data_combined[i * 100 + base : (i+1) * 100 + base, 0], \n",
    "        embedded_data_combined[i * 100 + base : (i+1) * 100 + base, 1], \n",
    "        label='ours', \n",
    "        marker='*', \n",
    "        c=colors[i]\n",
    "    )\n",
    "\n",
    "base += selected_class_num * 100\n",
    "\n",
    "for i in range(selected_class_num):\n",
    "    plt.scatter(\n",
    "        embedded_data_combined[i * 50 + base : (i+1) * 50 + base, 0]+38, \n",
    "        embedded_data_combined[i * 50 + base : (i+1) * 50 + base, 1]-5, \n",
    "        label='SRe2L', \n",
    "        marker='.', \n",
    "        c=colors[i]\n",
    "    )\n",
    "# remove all axis\n",
    "plt.axis('off')\n",
    "plt.legend()\n",
    "plt.show()"
   ]
  }
 ],
 "metadata": {
  "kernelspec": {
   "display_name": "Python 3",
   "language": "python",
   "name": "python3"
  },
  "language_info": {
   "codemirror_mode": {
    "name": "ipython",
    "version": 3
   },
   "file_extension": ".py",
   "mimetype": "text/x-python",
   "name": "python",
   "nbconvert_exporter": "python",
   "pygments_lexer": "ipython3",
   "version": "3.8.10"
  }
 },
 "nbformat": 4,
 "nbformat_minor": 2
}
