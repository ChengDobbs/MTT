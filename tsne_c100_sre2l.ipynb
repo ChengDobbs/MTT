{
 "cells": [
  {
   "cell_type": "code",
   "execution_count": 1,
   "metadata": {},
   "outputs": [],
   "source": [
    "import torch\n",
    "import numpy as np\n",
    "import matplotlib.pyplot as plt\n",
    "from sklearn.manifold import TSNE\n",
    "from torchvision import datasets, transforms, models\n",
    "from torch.utils.data import DataLoader\n",
    "import torch.nn as nn\n",
    "import pdb\n",
    "from matplotlib.colors import ListedColormap\n",
    "from utils import get_dataset, get_network, get_daparam, TensorDataset, epoch, ParamDiffAug"
   ]
  },
  {
   "cell_type": "code",
   "execution_count": 2,
   "metadata": {},
   "outputs": [],
   "source": [
    "total_class_num = 100\n",
    "selected_class_num = 1"
   ]
  },
  {
   "cell_type": "code",
   "execution_count": 3,
   "metadata": {},
   "outputs": [
    {
     "data": {
      "text/plain": [
       "DataParallel(\n",
       "  (module): ResNet(\n",
       "    (conv1): Conv2d(3, 64, kernel_size=(3, 3), stride=(1, 1), padding=(1, 1), bias=False)\n",
       "    (bn1): BatchNorm2d(64, eps=1e-05, momentum=0.1, affine=True, track_running_stats=True)\n",
       "    (relu): ReLU(inplace=True)\n",
       "    (maxpool): Identity()\n",
       "    (layer1): Sequential(\n",
       "      (0): BasicBlock(\n",
       "        (conv1): Conv2d(64, 64, kernel_size=(3, 3), stride=(1, 1), padding=(1, 1), bias=False)\n",
       "        (bn1): BatchNorm2d(64, eps=1e-05, momentum=0.1, affine=True, track_running_stats=True)\n",
       "        (relu): ReLU(inplace=True)\n",
       "        (conv2): Conv2d(64, 64, kernel_size=(3, 3), stride=(1, 1), padding=(1, 1), bias=False)\n",
       "        (bn2): BatchNorm2d(64, eps=1e-05, momentum=0.1, affine=True, track_running_stats=True)\n",
       "      )\n",
       "      (1): BasicBlock(\n",
       "        (conv1): Conv2d(64, 64, kernel_size=(3, 3), stride=(1, 1), padding=(1, 1), bias=False)\n",
       "        (bn1): BatchNorm2d(64, eps=1e-05, momentum=0.1, affine=True, track_running_stats=True)\n",
       "        (relu): ReLU(inplace=True)\n",
       "        (conv2): Conv2d(64, 64, kernel_size=(3, 3), stride=(1, 1), padding=(1, 1), bias=False)\n",
       "        (bn2): BatchNorm2d(64, eps=1e-05, momentum=0.1, affine=True, track_running_stats=True)\n",
       "      )\n",
       "    )\n",
       "    (layer2): Sequential(\n",
       "      (0): BasicBlock(\n",
       "        (conv1): Conv2d(64, 128, kernel_size=(3, 3), stride=(2, 2), padding=(1, 1), bias=False)\n",
       "        (bn1): BatchNorm2d(128, eps=1e-05, momentum=0.1, affine=True, track_running_stats=True)\n",
       "        (relu): ReLU(inplace=True)\n",
       "        (conv2): Conv2d(128, 128, kernel_size=(3, 3), stride=(1, 1), padding=(1, 1), bias=False)\n",
       "        (bn2): BatchNorm2d(128, eps=1e-05, momentum=0.1, affine=True, track_running_stats=True)\n",
       "        (downsample): Sequential(\n",
       "          (0): Conv2d(64, 128, kernel_size=(1, 1), stride=(2, 2), bias=False)\n",
       "          (1): BatchNorm2d(128, eps=1e-05, momentum=0.1, affine=True, track_running_stats=True)\n",
       "        )\n",
       "      )\n",
       "      (1): BasicBlock(\n",
       "        (conv1): Conv2d(128, 128, kernel_size=(3, 3), stride=(1, 1), padding=(1, 1), bias=False)\n",
       "        (bn1): BatchNorm2d(128, eps=1e-05, momentum=0.1, affine=True, track_running_stats=True)\n",
       "        (relu): ReLU(inplace=True)\n",
       "        (conv2): Conv2d(128, 128, kernel_size=(3, 3), stride=(1, 1), padding=(1, 1), bias=False)\n",
       "        (bn2): BatchNorm2d(128, eps=1e-05, momentum=0.1, affine=True, track_running_stats=True)\n",
       "      )\n",
       "    )\n",
       "    (layer3): Sequential(\n",
       "      (0): BasicBlock(\n",
       "        (conv1): Conv2d(128, 256, kernel_size=(3, 3), stride=(2, 2), padding=(1, 1), bias=False)\n",
       "        (bn1): BatchNorm2d(256, eps=1e-05, momentum=0.1, affine=True, track_running_stats=True)\n",
       "        (relu): ReLU(inplace=True)\n",
       "        (conv2): Conv2d(256, 256, kernel_size=(3, 3), stride=(1, 1), padding=(1, 1), bias=False)\n",
       "        (bn2): BatchNorm2d(256, eps=1e-05, momentum=0.1, affine=True, track_running_stats=True)\n",
       "        (downsample): Sequential(\n",
       "          (0): Conv2d(128, 256, kernel_size=(1, 1), stride=(2, 2), bias=False)\n",
       "          (1): BatchNorm2d(256, eps=1e-05, momentum=0.1, affine=True, track_running_stats=True)\n",
       "        )\n",
       "      )\n",
       "      (1): BasicBlock(\n",
       "        (conv1): Conv2d(256, 256, kernel_size=(3, 3), stride=(1, 1), padding=(1, 1), bias=False)\n",
       "        (bn1): BatchNorm2d(256, eps=1e-05, momentum=0.1, affine=True, track_running_stats=True)\n",
       "        (relu): ReLU(inplace=True)\n",
       "        (conv2): Conv2d(256, 256, kernel_size=(3, 3), stride=(1, 1), padding=(1, 1), bias=False)\n",
       "        (bn2): BatchNorm2d(256, eps=1e-05, momentum=0.1, affine=True, track_running_stats=True)\n",
       "      )\n",
       "    )\n",
       "    (layer4): Sequential(\n",
       "      (0): BasicBlock(\n",
       "        (conv1): Conv2d(256, 512, kernel_size=(3, 3), stride=(2, 2), padding=(1, 1), bias=False)\n",
       "        (bn1): BatchNorm2d(512, eps=1e-05, momentum=0.1, affine=True, track_running_stats=True)\n",
       "        (relu): ReLU(inplace=True)\n",
       "        (conv2): Conv2d(512, 512, kernel_size=(3, 3), stride=(1, 1), padding=(1, 1), bias=False)\n",
       "        (bn2): BatchNorm2d(512, eps=1e-05, momentum=0.1, affine=True, track_running_stats=True)\n",
       "        (downsample): Sequential(\n",
       "          (0): Conv2d(256, 512, kernel_size=(1, 1), stride=(2, 2), bias=False)\n",
       "          (1): BatchNorm2d(512, eps=1e-05, momentum=0.1, affine=True, track_running_stats=True)\n",
       "        )\n",
       "      )\n",
       "      (1): BasicBlock(\n",
       "        (conv1): Conv2d(512, 512, kernel_size=(3, 3), stride=(1, 1), padding=(1, 1), bias=False)\n",
       "        (bn1): BatchNorm2d(512, eps=1e-05, momentum=0.1, affine=True, track_running_stats=True)\n",
       "        (relu): ReLU(inplace=True)\n",
       "        (conv2): Conv2d(512, 512, kernel_size=(3, 3), stride=(1, 1), padding=(1, 1), bias=False)\n",
       "        (bn2): BatchNorm2d(512, eps=1e-05, momentum=0.1, affine=True, track_running_stats=True)\n",
       "      )\n",
       "    )\n",
       "    (avgpool): AdaptiveAvgPool2d(output_size=(1, 1))\n",
       "    (fc): Linear(in_features=512, out_features=100, bias=True)\n",
       "  )\n",
       ")"
      ]
     },
     "execution_count": 3,
     "metadata": {},
     "output_type": "execute_result"
    }
   ],
   "source": [
    "model_teacher = models.resnet18(num_classes=100)\n",
    "model_teacher.conv1 = nn.Conv2d(3, 64, kernel_size=(3, 3), stride=(1, 1), padding=(1, 1), bias=False)\n",
    "model_teacher.maxpool = nn.Identity()\n",
    "model_teacher = torch.nn.DataParallel(model_teacher).cuda()\n",
    "checkpoint = torch.load('/root/SRE_repro/save/cifar100/cifar100_rn18_ep200/ckpt.pth')\n",
    "model_teacher.load_state_dict(checkpoint[\"state_dict\"])\n",
    "model_teacher.eval()"
   ]
  },
  {
   "cell_type": "code",
   "execution_count": 4,
   "metadata": {},
   "outputs": [],
   "source": [
    "tsne = TSNE(n_components=2, random_state=42)\n"
   ]
  },
  {
   "cell_type": "code",
   "execution_count": 5,
   "metadata": {},
   "outputs": [
    {
     "data": {
      "text/plain": [
       "array([4])"
      ]
     },
     "execution_count": 5,
     "metadata": {},
     "output_type": "execute_result"
    }
   ],
   "source": [
    "classes = np.random.choice(total_class_num, selected_class_num, replace=False)\n",
    "classes"
   ]
  },
  {
   "cell_type": "markdown",
   "metadata": {},
   "source": [
    "#### load images from cifar100 dataset"
   ]
  },
  {
   "cell_type": "code",
   "execution_count": 6,
   "metadata": {},
   "outputs": [
    {
     "name": "stdout",
     "output_type": "stream",
     "text": [
      "Files already downloaded and verified\n",
      "[4]\n",
      "torch.Size([50000, 3, 32, 32])\n",
      "tensor([ 0.0775,  0.0218, -0.0278]) tensor([1.3215, 1.2861, 1.3739])\n"
     ]
    }
   ],
   "source": [
    "from torchvision.datasets import CIFAR100\n",
    "# add inception data augmentations\n",
    "transform = transforms.Compose([\n",
    "    transforms.RandomHorizontalFlip(),\n",
    "    transforms.ToTensor(),\n",
    "    transforms.Resize((32, 32)),\n",
    "    transforms.Normalize(mean=[0.4914, 0.4822, 0.4465], std=[0.2023, 0.1994, 0.2010])\n",
    "])\n",
    "cifar100_dataset = CIFAR100(root='/root/SRE_repro/data', train=True, download=True, transform=transform)\n",
    "cifar100_loader = DataLoader(cifar100_dataset, batch_size=100, shuffle=False)\n",
    "\n",
    "\n",
    "print(classes)\n",
    "train_loader = DataLoader(cifar100_dataset, batch_size=100, shuffle=False)\n",
    "# calc mean and std on whole dataset\n",
    "image_tensor = torch.stack([img for img, _ in train_loader.dataset])\n",
    "print(image_tensor.shape)\n",
    "mean = image_tensor.mean(dim=(0, 2, 3))\n",
    "std = image_tensor.std(dim=(0, 2, 3))\n",
    "print(mean, std)\n"
   ]
  },
  {
   "cell_type": "code",
   "execution_count": 7,
   "metadata": {},
   "outputs": [
    {
     "name": "stdout",
     "output_type": "stream",
     "text": [
      "class_to_plot: 4\n",
      "(3, 100)\n",
      "(500, 100)\n"
     ]
    }
   ],
   "source": [
    "# transform = transforms.Compose([\n",
    "#     transforms.ToTensor(),\n",
    "#     transforms.Resize((32, 32)),\n",
    "#     transforms.Normalize(mean=mean, std=std)\n",
    "# ])\n",
    "flag = True\n",
    "for ci in range(len(classes)):\n",
    "    class_to_plot = classes[ci]\n",
    "    print('class_to_plot:', class_to_plot)\n",
    "    with torch.no_grad():\n",
    "        for images, batch_labels in cifar100_loader:\n",
    "            images = images.cuda()\n",
    "            features_batch = model_teacher(images)\n",
    "            labels_batch = batch_labels.cpu().numpy()\n",
    "            class_indices = np.where(labels_batch == class_to_plot)[0]\n",
    "            # print('class_indices:', class_indices)\n",
    "            if len(class_indices) == 0:\n",
    "                continue\n",
    "            if flag:\n",
    "                flag = False\n",
    "                features_batch = features_batch[class_indices].squeeze().cpu().numpy()\n",
    "                print(features_batch.shape)\n",
    "                features = features_batch.reshape(-1, 100)\n",
    "                # print('c', ci, 'total', features.shape)\n",
    "            else:\n",
    "                features_batch = features_batch[class_indices].cpu().numpy()\n",
    "                features = np.concatenate((features, features_batch), axis=0)\n",
    "                # print('c', ci, 'total', features.shape)\n",
    "    print(features.shape)"
   ]
  },
  {
   "cell_type": "code",
   "execution_count": 8,
   "metadata": {},
   "outputs": [
    {
     "data": {
      "text/plain": [
       "(500, 100)"
      ]
     },
     "execution_count": 8,
     "metadata": {},
     "output_type": "execute_result"
    }
   ],
   "source": [
    "features_flat = features.reshape(features.shape[0], -1)\n",
    "features_flat.shape"
   ]
  },
  {
   "cell_type": "markdown",
   "metadata": {},
   "source": [
    "#### load sre2l distilled images"
   ]
  },
  {
   "cell_type": "code",
   "execution_count": 9,
   "metadata": {},
   "outputs": [
    {
     "name": "stdout",
     "output_type": "stream",
     "text": [
      "[4]\n",
      "tensor([-0.2690, -0.3329, -0.3521]) tensor([1.4680, 1.4352, 1.4399])\n"
     ]
    }
   ],
   "source": [
    "sre2l_train_dir = '/root/SRE_repro/syn_data/cifar100_rn18_1k_ipc50'\n",
    "# read from the file\n",
    "transform = transforms.Compose([\n",
    "    transforms.RandomHorizontalFlip(),\n",
    "    transforms.ToTensor(),\n",
    "    transforms.Resize((32, 32)),\n",
    "    transforms.Normalize(mean=[0.4914, 0.4822, 0.4465], std=[0.2023, 0.1994, 0.2010])\n",
    "])\n",
    "\n",
    "\n",
    "train_dataset = datasets.ImageFolder(\n",
    "    sre2l_train_dir,\n",
    "    transform=transform\n",
    ")\n",
    "print(classes)\n",
    "train_loader = DataLoader(train_dataset, batch_size=100, shuffle=False)\n",
    "# calc mean and std on whole dataset\n",
    "image_tensor = torch.stack([img for img, _ in train_loader.dataset])\n",
    "mean = image_tensor.mean(dim=(0, 2, 3))\n",
    "std = image_tensor.std(dim=(0, 2, 3))\n",
    "print(mean, std)\n"
   ]
  },
  {
   "cell_type": "code",
   "execution_count": 10,
   "metadata": {},
   "outputs": [
    {
     "name": "stdout",
     "output_type": "stream",
     "text": [
      "(50, 100)\n",
      "total (50, 100)\n"
     ]
    }
   ],
   "source": [
    "flag = True\n",
    "train_loader = DataLoader(train_dataset, batch_size=50, shuffle=False)\n",
    "with torch.no_grad():\n",
    "    for images, batch_labels in train_loader:\n",
    "        if batch_labels[0].item() in classes:\n",
    "            images = images.cuda()\n",
    "            features_batch = model_teacher(images)\n",
    "            features_batch = features_batch.cpu().numpy()\n",
    "            if flag:\n",
    "                flag = False\n",
    "                features_batch = features_batch.squeeze().reshape(-1, 100)\n",
    "                features = features_batch\n",
    "                print(features.shape)\n",
    "            else:\n",
    "                features_batch = features_batch.squeeze().reshape(-1, 100)\n",
    "                features = np.concatenate((features, features_batch), axis=0)\n",
    "                print(features.shape)\n",
    "            print('total', features.shape)"
   ]
  },
  {
   "cell_type": "code",
   "execution_count": 11,
   "metadata": {},
   "outputs": [
    {
     "data": {
      "text/plain": [
       "(50, 100)"
      ]
     },
     "execution_count": 11,
     "metadata": {},
     "output_type": "execute_result"
    }
   ],
   "source": [
    "sre2l_distill = features\n",
    "sre2l_distill_flat = sre2l_distill.reshape(sre2l_distill.shape[0], -1)\n",
    "sre2l_distill_flat.shape"
   ]
  },
  {
   "cell_type": "code",
   "execution_count": 12,
   "metadata": {},
   "outputs": [],
   "source": [
    "# features_flat_combined = np.concatenate((features_flat, our_distill_flat, sre2l_distill_flat), axis=0) \n",
    "features_flat_combined = np.concatenate((features_flat, sre2l_distill_flat), axis=0) "
   ]
  },
  {
   "cell_type": "code",
   "execution_count": 13,
   "metadata": {},
   "outputs": [
    {
     "name": "stdout",
     "output_type": "stream",
     "text": [
      "(550, 100)\n",
      "(500, 100)\n",
      "(50, 100)\n"
     ]
    }
   ],
   "source": [
    "print(features_flat_combined.shape)\n",
    "print(features_flat.shape)\n",
    "# print(our_distill_flat.shape)\n",
    "print(sre2l_distill_flat.shape)"
   ]
  },
  {
   "cell_type": "code",
   "execution_count": 14,
   "metadata": {},
   "outputs": [],
   "source": [
    "embedded_data_combined = tsne.fit_transform(features_flat_combined)\n",
    "# embedded_features_flat = tsne.fit_transform(features_flat)\n",
    "# embedded_sre2l_distill_flat = tsne.fit_transform(sre2l_distill_flat)"
   ]
  },
  {
   "cell_type": "code",
   "execution_count": 15,
   "metadata": {},
   "outputs": [
    {
     "data": {
      "text/plain": [
       "array([4])"
      ]
     },
     "execution_count": 15,
     "metadata": {},
     "output_type": "execute_result"
    }
   ],
   "source": [
    "classes"
   ]
  },
  {
   "cell_type": "code",
   "execution_count": 16,
   "metadata": {},
   "outputs": [],
   "source": [
    "colors = ['r', 'g', 'b', 'purple', 'orange']\n",
    "# colors = ['r', 'purple', 'brown']"
   ]
  },
  {
   "cell_type": "code",
   "execution_count": 17,
   "metadata": {},
   "outputs": [
    {
     "data": {
      "image/png": "[encoded data removed]",
      "text/plain": [
       "<Figure size 640x480 with 1 Axes>"
      ]
     },
     "metadata": {},
     "output_type": "display_data"
    }
   ],
   "source": [
    "import seaborn as sns\n",
    "import pandas as pd\n",
    "sns.set_style(\"white\")\n",
    "\n",
    "x1 = embedded_data_combined[0 : 500, 0]\n",
    "y1 = embedded_data_combined[0 : 500, 1]\n",
    "# x2 = embedded_features_flat[500 : 1000, 0]\n",
    "# y2 = embedded_features_flat[500 : 1000, 1]\n",
    "# x3 = embedded_features_flat[1000 : 1500, 0]\n",
    "# y3 = embedded_features_flat[1000 : 1500, 1]\n",
    "# x4 = embedded_features_flat[1500 : 2000, 0]\n",
    "# y4 = embedded_features_flat[1500 : 2000, 1]\n",
    "# x5 = embedded_features_flat[2000 : 2500, 0]\n",
    "# y5 = embedded_features_flat[2000 : 2500, 1]\n",
    "\n",
    "df = pd.DataFrame({\n",
    "    \"x1\": x1,\n",
    "    \"y1\": y1,\n",
    "    # \"x2\": x2,\n",
    "    # \"y2\": y2,\n",
    "    # \"x3\": x3,\n",
    "    # \"y3\": y3,\n",
    "    # \"x4\": x4,\n",
    "    # \"y4\": y4,\n",
    "    # \"x5\": x5,\n",
    "    # \"y5\": y5,\n",
    "})\n",
    "sns.kdeplot(x=df.x1, y=df.y1, cmap=\"Reds\", fill=True, bw_adjust=0.8)\n",
    "# sns.kdeplot(x=df.x2, y=df.y2, cmap=\"Greens\", fill=True, bw_adjust=0.8)\n",
    "# sns.kdeplot(x=df.x3, y=df.y3, cmap=\"Blues\", fill=True, bw_adjust=0.8)\n",
    "# sns.kdeplot(x=df.x4, y=df.y4, cmap=\"Purples\", fill=True, bw_adjust=0.8)\n",
    "# sns.kdeplot(x=df.x5, y=df.y5, cmap=\"Oranges\", fill=True, bw_adjust=0.8)\n",
    "\n",
    "base = selected_class_num * 500\n",
    "# base = 0\n",
    "\n",
    "# for i in range(selected_class_num):\n",
    "#     plt.scatter(\n",
    "#         embedded_data_combined[i * 100 + base : (i+1) * 100 + base, 0], \n",
    "#         embedded_data_combined[i * 100 + base : (i+1) * 100 + base, 1], \n",
    "#         label='ours', \n",
    "#         marker='*', \n",
    "#         c=colors[i]\n",
    "#     )\n",
    "# base += selected_class_num * 100\n",
    "\n",
    "for i in range(selected_class_num):\n",
    "    plt.scatter(\n",
    "        embedded_data_combined[i * 50 + base : (i+1) * 50 + base, 0], \n",
    "        embedded_data_combined[i * 50 + base : (i+1) * 50 + base, 1], \n",
    "        label=str(classes[i])+' SRe2L', \n",
    "        marker='.', \n",
    "        c=colors[i]\n",
    "    )\n",
    "# remove all axis\n",
    "plt.axis('off')\n",
    "plt.legend()\n",
    "plt.show()"
   ]
  }
 ],
 "metadata": {
  "kernelspec": {
   "display_name": "Python 3",
   "language": "python",
   "name": "python3"
  },
  "language_info": {
   "codemirror_mode": {
    "name": "ipython",
    "version": 3
   },
   "file_extension": ".py",
   "mimetype": "text/x-python",
   "name": "python",
   "nbconvert_exporter": "python",
   "pygments_lexer": "ipython3",
   "version": "3.8.10"
  }
 },
 "nbformat": 4,
 "nbformat_minor": 2
}
